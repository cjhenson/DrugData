{
 "cells": [
  {
   "cell_type": "code",
   "execution_count": 3,
   "metadata": {
    "ExecuteTime": {
     "end_time": "2018-03-30T15:30:36.318537Z",
     "start_time": "2018-03-30T15:30:28.640985Z"
    }
   },
   "outputs": [],
   "source": [
    "import scipy.io as spio\n",
    "import pandas as pd"
   ]
  },
  {
   "cell_type": "code",
   "execution_count": 5,
   "metadata": {
    "code_folding": [
     0
    ]
   },
   "outputs": [],
   "source": [
    "def impmat(fname = 'M_processed.mat', writ = True):\n",
    "    ''' import matlab crap, and turn it to pickles (or return panda df)'''\n",
    "    mat = spio.loadmat(fname, squeeze_me=True)\n",
    "    M = mat['M'] # data comes in as a bunch of TRASH, gotta make it PANDA\n",
    "    #print(mat[\"__header__\"])\n",
    "    #print(mat[\"__version__\"])\n",
    "    #print(mat[\"__globals__\"])\n",
    "    head = ['time','ndc1','ndc2','ndc3','Trade_Partner_Name',\n",
    "    'Distribution_Center_State','NDC','Distribution_Center_ID_(IC)',\n",
    "    'Distribution_Center_Zip','Eff_Inv_(EU)','Eff_Inv_(PU)',\n",
    "    'Qty_Ord_(EU)','Qty_Ord_(PU)']\n",
    "\n",
    "    data = pd.DataFrame(M, columns=head)\n",
    "    data[\"time\"] = pd.to_datetime(data[\"time\"], format='%Y%m%d', errors='coerce')\n",
    "\n",
    "    if writ: # h5 allows your variable to be external\n",
    "        dt = pd.HDFStore(\"drugdata.h5\") # don't need to import/export! warning, though: huge\n",
    "        dt['dat'] = data #\n",
    "    return(data)\n"
   ]
  },
  {
   "cell_type": "code",
   "execution_count": 1,
   "metadata": {
    "ExecuteTime": {
     "end_time": "2018-03-30T15:30:19.520400Z",
     "start_time": "2018-03-30T15:30:19.300351Z"
    },
    "code_folding": [
     0
    ]
   },
   "outputs": [],
   "source": [
    "def test_hd5(p = 0, q = 0):\n",
    "    \"\"\"test data and run answers to intro quiz\n",
    "    p is to print head of dataframe\n",
    "    q prints quiz answers\n",
    "    doesn't return anything\n",
    "    mostly for access examples\"\"\"\n",
    "    dt = pd.HDFStore(\"drugdata.h5\")[\"dat\"]\n",
    "\n",
    "    header = dt.columns.tolist()\n",
    "    # thanks @brock\n",
    "    def q1(df):\n",
    "        return(df.Trade_Partner_Name.unique())\n",
    "    \n",
    "    def q2(df):\n",
    "        q2 = df.groupby('Trade_Partner_Name')['Distribution_Center_ID_(IC)'].nunique()\n",
    "        q2max = q2.max()\n",
    "        return(q2[q2 == q2max])\n",
    "    \n",
    "    def q3(df):\n",
    "        q3df = df.loc[df[\"time\"].dt.year == 2011] # can also use dt.month\n",
    "        q3TotalSales = q3df.groupby('NDC')['Qty_Ord_(PU)'].sum()\n",
    "        #print(q3TotalSales)\n",
    "        q3sorted = q3TotalSales.sort_values(ascending = False).head()\n",
    "        return(q3sorted)\n",
    "    \n",
    "    def q4(df):\n",
    "        q4 = df['NDC'].value_counts()\n",
    "        NDCLessThan60 = q4[q4 < 60]\n",
    "        if (NDCLessThan60.size == 0):\n",
    "            return(None)\n",
    "        else:\n",
    "            return(NDCLessThan60.size)\n",
    "        \n",
    "    def q5(df):\n",
    "        q5 =  df.groupby('NDC')['Qty_Ord_(PU)'].std()\n",
    "        q5max = q5.max()\n",
    "        NDCHighestVariance = q5[q5 == q5max]\n",
    "        return(NDCHighestVariance)\n",
    "    \n",
    "    def q6(df):\n",
    "        q6 = df.groupby('NDC')['Qty_Ord_(PU)'].nunique()\n",
    "        q6ZeroDemand = q6[q6 == 0]\n",
    "        if (q6ZeroDemand.size == 0):\n",
    "            return(None)\n",
    "        else:\n",
    "            return(q6ZeroDemand.size)\n",
    "    \n",
    "    if p:\n",
    "        for col in header:\n",
    "            print(dt[col].head())\n",
    "    if q:\n",
    "        answers = [q1(dt), q2(dt), q3(dt), q4(dt), q5(dt), q6(dt)]\n",
    "        for i, ans in enumerate(answers):\n",
    "            try:\n",
    "                print('Question %d'%(i+1),  ans)\n",
    "            except:\n",
    "                print('Question %d'%(i+1) + str(ans))"
   ]
  },
  {
   "cell_type": "code",
   "execution_count": 5,
   "metadata": {
    "ExecuteTime": {
     "end_time": "2018-03-30T15:53:16.151824Z",
     "start_time": "2018-03-30T15:53:15.686703Z"
    }
   },
   "outputs": [
    {
     "name": "stdout",
     "output_type": "stream",
     "text": [
      "0   2007-07-01\n",
      "1   2007-07-01\n",
      "2   2007-07-01\n",
      "3   2007-07-01\n",
      "4   2007-07-01\n",
      "Name: time, dtype: datetime64[ns]\n",
      "0    597.0\n",
      "1    597.0\n",
      "2    597.0\n",
      "3    597.0\n",
      "4    597.0\n",
      "Name: ndc1, dtype: float64\n",
      "0     1.0\n",
      "1     3.0\n",
      "2    86.0\n",
      "3    81.0\n",
      "4    87.0\n",
      "Name: ndc2, dtype: float64\n",
      "0    60.0\n",
      "1     2.0\n",
      "2    76.0\n",
      "3    30.0\n",
      "4    17.0\n",
      "Name: ndc3, dtype: float64\n",
      "0    4.0\n",
      "1    4.0\n",
      "2    4.0\n",
      "3    4.0\n",
      "4    4.0\n",
      "Name: Trade_Partner_Name, dtype: float64\n",
      "0    11.0\n",
      "1    11.0\n",
      "2    11.0\n",
      "3    11.0\n",
      "4    11.0\n",
      "Name: Distribution_Center_State, dtype: float64\n",
      "0    154.0\n",
      "1      6.0\n",
      "2    104.0\n",
      "3     72.0\n",
      "4    145.0\n",
      "Name: NDC, dtype: float64\n",
      "0    200201.0\n",
      "1    200201.0\n",
      "2    200201.0\n",
      "3    200201.0\n",
      "4    200201.0\n",
      "Name: Distribution_Center_ID_(IC), dtype: float64\n",
      "0    14624.0\n",
      "1    14624.0\n",
      "2    14624.0\n",
      "3    14624.0\n",
      "4    14624.0\n",
      "Name: Distribution_Center_Zip, dtype: float64\n",
      "0    7980.0\n",
      "1    1200.0\n",
      "2      90.0\n",
      "3     330.0\n",
      "4    1793.0\n",
      "Name: Eff_Inv_(EU), dtype: float64\n",
      "0    133.0\n",
      "1     10.0\n",
      "2      6.0\n",
      "3     11.0\n",
      "4    139.0\n",
      "Name: Eff_Inv_(PU), dtype: float64\n",
      "0    5460.0\n",
      "1       0.0\n",
      "2       0.0\n",
      "3       0.0\n",
      "4    1238.0\n",
      "Name: Qty_Ord_(EU), dtype: float64\n",
      "0    91.0\n",
      "1     0.0\n",
      "2     0.0\n",
      "3     0.0\n",
      "4    96.0\n",
      "Name: Qty_Ord_(PU), dtype: float64\n"
     ]
    }
   ],
   "source": [
    "#d = impmat()\n",
    "test_hd5(p=1)"
   ]
  },
  {
   "cell_type": "code",
   "execution_count": 25,
   "metadata": {},
   "outputs": [
    {
     "name": "stdout",
     "output_type": "stream",
     "text": [
      "Question 1: [  4.  20.   2.   3.  21.  15.  12.   9.   5.  14.   0.  22.  26.  27.   8.\n",
      "  24.  10.  13.  11.  16.   7.  19.  23.  17.  25.   6.   1.  18.]\n"
     ]
    }
   ],
   "source": [
    "def sales(df, t, co, plc):\n",
    "    \"\"\"in: df=data object, t=time of interest, co=partner, \n",
    "    want to select \"\"\""
   ]
  },
  {
   "cell_type": "code",
   "execution_count": 26,
   "metadata": {},
   "outputs": [
    {
     "name": "stdout",
     "output_type": "stream",
     "text": [
      "Trade_Partner_Name\n",
      "20.0    50\n",
      "Name: Distribution_Center_ID_(IC), dtype: int64\n"
     ]
    }
   ],
   "source": [
    "\n",
    "#print(q2)"
   ]
  },
  {
   "cell_type": "code",
   "execution_count": null,
   "metadata": {},
   "outputs": [],
   "source": []
  }
 ],
 "metadata": {
  "kernelspec": {
   "display_name": "Python 3",
   "language": "python",
   "name": "python3"
  },
  "language_info": {
   "codemirror_mode": {
    "name": "ipython",
    "version": 3
   },
   "file_extension": ".py",
   "mimetype": "text/x-python",
   "name": "python",
   "nbconvert_exporter": "python",
   "pygments_lexer": "ipython3",
   "version": "3.6.2"
  }
 },
 "nbformat": 4,
 "nbformat_minor": 2
}
