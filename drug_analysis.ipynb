{
 "cells": [
  {
   "cell_type": "markdown",
   "metadata": {},
   "source": [
    "## 0 - Imports"
   ]
  },
  {
   "cell_type": "code",
   "execution_count": 384,
   "metadata": {
    "ExecuteTime": {
     "end_time": "2018-04-05T19:34:59.021650Z",
     "start_time": "2018-04-05T19:34:58.812790Z"
    }
   },
   "outputs": [],
   "source": [
    "import scipy.io as spio\n",
    "import pandas as pd\n",
    "import numpy as np\n",
    "from numpy import absolute as nabs"
   ]
  },
  {
   "cell_type": "markdown",
   "metadata": {},
   "source": [
    "## 1 - Load, clean, test data"
   ]
  },
  {
   "cell_type": "code",
   "execution_count": 270,
   "metadata": {
    "ExecuteTime": {
     "end_time": "2018-04-05T18:50:53.787868Z",
     "start_time": "2018-04-05T18:50:53.751940Z"
    },
    "code_folding": [
     0
    ]
   },
   "outputs": [],
   "source": [
    "def impmat(fname = 'M_processed.mat', writ = True):\n",
    "    ''' import matlab crap, and turn it to pickles (or return panda df)'''\n",
    "    mat = spio.loadmat(fname, squeeze_me=True)\n",
    "    M = mat['M'] \n",
    "    head = ['time','ndc1','ndc2','ndc3',\n",
    "            'Trade_Partner_Name', 'Distribution_Center_State','NDC','Distribution_Center_ID_(IC)',\n",
    "    'Distribution_Center_Zip','Eff_Inv_(EU)','Eff_Inv_(PU)','Qty_Ord_(EU)',\n",
    "            'Qty_Ord_(PU)']\n",
    "    # get rid of ndc 1,2,3 because they're pieces of NCD\n",
    "    # also get rid of purchase units, just use eatable\n",
    "    # also get rid of states and zip code\n",
    "    needed = [0,4,6,7,9,11]\n",
    "    head_adj = [head[i] for i in needed]\n",
    "    data = pd.DataFrame(M, columns=head)\n",
    "    data[\"time\"] = pd.to_datetime(data[\"time\"], format='%Y%m%d', errors='coerce')\n",
    "\n",
    "    if writ: # h5 allows your variable to be external\n",
    "        dt = pd.HDFStore(\"drugdata.h5\") # don't need to import/export! warning, though: huge\n",
    "        dt['dat'] = data[head_adj] #\n",
    "    return(data)\n"
   ]
  },
  {
   "cell_type": "code",
   "execution_count": 38,
   "metadata": {
    "ExecuteTime": {
     "end_time": "2018-04-04T20:34:14.191133Z",
     "start_time": "2018-04-04T20:34:13.990992Z"
    },
    "code_folding": [
     0
    ]
   },
   "outputs": [],
   "source": [
    "def test_hd5(p = 0, q = 0):\n",
    "    \"\"\"test data and run answers to intro quiz\n",
    "    p is to print head of dataframe\n",
    "    q prints quiz answers\n",
    "    doesn't return anything\n",
    "    mostly for access examples\"\"\"\n",
    "    dt = pd.HDFStore(\"drugdata.h5\")[\"dat\"]\n",
    "\n",
    "    header = dt.columns.tolist()\n",
    "    # thanks @brock\n",
    "    def q1(df):\n",
    "        return(df.Trade_Partner_Name.unique())\n",
    "    \n",
    "    def q2(df):\n",
    "        q2 = df.groupby('Trade_Partner_Name')['Distribution_Center_ID_(IC)'].nunique()\n",
    "        q2max = q2.max()\n",
    "        return(q2[q2 == q2max])\n",
    "    \n",
    "    def q3(df):\n",
    "        q3df = df.loc[df[\"time\"].dt.year == 2011] # can also use dt.month\n",
    "        q3TotalSales = q3df.groupby('NDC')['Qty_Ord_(EU)'].sum()\n",
    "        #print(q3TotalSales)\n",
    "        q3sorted = q3TotalSales.sort_values(ascending = False).head()\n",
    "        return(q3sorted)\n",
    "    \n",
    "    def q4(df):\n",
    "        q4 = df['NDC'].value_counts()\n",
    "        NDCLessThan60 = q4[q4 < 60]\n",
    "        if (NDCLessThan60.size == 0):\n",
    "            return(None)\n",
    "        else:\n",
    "            return(NDCLessThan60.size)\n",
    "        \n",
    "    def q5(df):\n",
    "        q5 =  df.groupby('NDC')['Qty_Ord_(EU)'].std()\n",
    "        q5max = q5.max()\n",
    "        NDCHighestVariance = q5[q5 == q5max]\n",
    "        return(NDCHighestVariance)\n",
    "    \n",
    "    def q6(df):\n",
    "        q6 = df.groupby('NDC')['Qty_Ord_(EU)'].nunique()\n",
    "        q6ZeroDemand = q6[q6 == 0]\n",
    "        if (q6ZeroDemand.size == 0):\n",
    "            return(None)\n",
    "        else:\n",
    "            return(q6ZeroDemand.size)\n",
    "    \n",
    "    if p:\n",
    "        for col in header:\n",
    "            print(dt[col].head())\n",
    "    if q:\n",
    "        answers = [q1(dt), q2(dt), q3(dt), q4(dt), q5(dt), q6(dt)]\n",
    "        for i, ans in enumerate(answers):\n",
    "            try:\n",
    "                print('Question %d'%(i+1),  ans)\n",
    "            except:\n",
    "                print('Question %d'%(i+1) + str(ans))"
   ]
  },
  {
   "cell_type": "code",
   "execution_count": 271,
   "metadata": {
    "ExecuteTime": {
     "end_time": "2018-04-05T18:51:07.577861Z",
     "start_time": "2018-04-05T18:50:56.483349Z"
    }
   },
   "outputs": [],
   "source": [
    "impmat() # uncomment if never built h5 file\n",
    "test_hd5(); # add p=1 or q = 1 to print stuff"
   ]
  },
  {
   "cell_type": "code",
   "execution_count": 277,
   "metadata": {
    "ExecuteTime": {
     "end_time": "2018-04-05T18:53:00.597816Z",
     "start_time": "2018-04-05T18:53:00.588327Z"
    },
    "code_folding": [
     0
    ]
   },
   "outputs": [],
   "source": [
    "def rem_neg_vals():\n",
    "    ''' if you've just imported from the mat file,\n",
    "    you need to run this to change the neg vals to 0 '''\n",
    "    df = pd.HDFStore(\"drugdata.h5\")[\"dat\"]\n",
    "    # set negative values to 0\n",
    "    df.loc[df['Eff_Inv_(EU)'] < 0,'Eff_Inv_(EU)'] = 0\n",
    "    df.loc[df['Qty_Ord_(EU)'] < 0,'Qty_Ord_(EU)'] = 0\n",
    "    #print(df.head())\n",
    "    return(True)"
   ]
  },
  {
   "cell_type": "code",
   "execution_count": 278,
   "metadata": {
    "ExecuteTime": {
     "end_time": "2018-04-05T18:53:01.293944Z",
     "start_time": "2018-04-05T18:53:00.972650Z"
    }
   },
   "outputs": [],
   "source": [
    "\n",
    "\n",
    "rem_neg_vals();"
   ]
  },
  {
   "cell_type": "markdown",
   "metadata": {
    "heading_collapsed": true
   },
   "source": [
    "## 2 - Early queries"
   ]
  },
  {
   "cell_type": "code",
   "execution_count": 223,
   "metadata": {
    "ExecuteTime": {
     "end_time": "2018-04-05T18:04:09.399240Z",
     "start_time": "2018-04-05T18:04:09.379211Z"
    },
    "code_folding": [
     0
    ],
    "hidden": true
   },
   "outputs": [],
   "source": [
    "def top_selling(thr, p = 0):\n",
    "    ''' in: minimum contributing percentage threshold\n",
    "        if p, prints number and % of drugs above thr\n",
    "        out: IDs of drugs above thr'''\n",
    "    df = pd.HDFStore(\"drugdata.h5\")[\"dat\"]\n",
    "    ind_total = df.groupby('NDC')['Qty_Ord_(EU)'].sum()\n",
    "    sortsales = ind_total.sort_values(ascending = False)\n",
    "    #print(sortsales)\n",
    "    total = sum(ind_total.values)\n",
    "    perc_total = 100 * sortsales / total\n",
    "    clipped_above_total = perc_total[perc_total > thr]\n",
    "    if p:\n",
    "        print(len(clipped_above_total), sum(clipped_above_total.values))\n",
    "    return(clipped_above_total.axes)"
   ]
  },
  {
   "cell_type": "code",
   "execution_count": 224,
   "metadata": {
    "ExecuteTime": {
     "end_time": "2018-04-05T18:04:19.893354Z",
     "start_time": "2018-04-05T18:04:19.440800Z"
    },
    "hidden": true
   },
   "outputs": [],
   "source": [
    "top_selling(1.5);"
   ]
  },
  {
   "cell_type": "code",
   "execution_count": 225,
   "metadata": {
    "ExecuteTime": {
     "end_time": "2018-04-05T18:05:24.515431Z",
     "start_time": "2018-04-05T18:05:24.472232Z"
    },
    "code_folding": [
     0
    ],
    "hidden": true
   },
   "outputs": [],
   "source": [
    "def weeks(p = 0):\n",
    "    ''' gives us a list of the weeks as a datetime Series '''\n",
    "    df = pd.HDFStore(\"drugdata.h5\")[\"dat\"]\n",
    "    ## 2008, at least, does indeed have 52 weeks\n",
    "    ## '07 has 27, '17 has 34\n",
    "    for i in range(2007, 2018):\n",
    "        y2k = df.loc[df.time.dt.year == (i)]\n",
    "        wy2k = y2k.groupby(\"time\").nunique()\n",
    "        ly = len(wy2k[\"time\"])\n",
    "        if p:\n",
    "            print(i, ly)\n",
    "          #  if ly != 52:\n",
    "           #     probs = pd.Series(y2k.time.unique()).sort_values().values\n",
    "                #\n",
    "            #    print(probs)\n",
    "                #for i in range(len(probs) - 1):\n",
    "            #    print(probs[i])\n",
    "            #    print(probs[i+1] - probs[i])\n",
    "    #print(df.time.nunique()) # 530 unique dates\n",
    "    #print(df.time.unique())\n",
    "    return(pd.to_datetime(df.time.unique()).sort_values())\n",
    "    "
   ]
  },
  {
   "cell_type": "code",
   "execution_count": 230,
   "metadata": {
    "ExecuteTime": {
     "end_time": "2018-04-05T18:21:05.951925Z",
     "start_time": "2018-04-05T18:20:59.053004Z"
    },
    "hidden": true
   },
   "outputs": [],
   "source": [
    "weeks();"
   ]
  },
  {
   "cell_type": "code",
   "execution_count": 181,
   "metadata": {
    "ExecuteTime": {
     "end_time": "2018-04-05T13:14:55.626073Z",
     "start_time": "2018-04-05T13:14:55.607558Z"
    },
    "code_folding": [
     0
    ],
    "hidden": true
   },
   "outputs": [],
   "source": [
    "def sales_exist():\n",
    "    ''' want to check that every week has sales '''\n",
    "    df = pd.HDFStore(\"drugdata.h5\")[\"dat\"]\n",
    "    useless = []\n",
    "    for wk in weeks():\n",
    "        sales = df.loc[df[\"time\"] == wk]['Qty_Ord_(EU)'].sum()\n",
    "        if sales == 0:\n",
    "            print(wk)\n",
    "            useless.append(wk)\n",
    "    #if not useless:\n",
    "    #   print(\"sold something every week\")\n",
    "    "
   ]
  },
  {
   "cell_type": "code",
   "execution_count": 182,
   "metadata": {
    "ExecuteTime": {
     "end_time": "2018-04-05T13:15:03.764275Z",
     "start_time": "2018-04-05T13:14:55.925936Z"
    },
    "hidden": true
   },
   "outputs": [],
   "source": [
    "sales_exist();"
   ]
  },
  {
   "cell_type": "markdown",
   "metadata": {},
   "source": [
    "## 3 - The meaty bits!"
   ]
  },
  {
   "cell_type": "code",
   "execution_count": 457,
   "metadata": {
    "ExecuteTime": {
     "end_time": "2018-04-05T20:03:43.974174Z",
     "start_time": "2018-04-05T20:03:43.937271Z"
    }
   },
   "outputs": [],
   "source": [
    "def sales(Year):\n",
    "    \"\"\"in: range of dates want studied \n",
    "    want to return the list of sales per date\n",
    "    todo: break up by location if we want\"\"\"\n",
    "    df = pd.HDFStore(\"drugdata.h5\")[\"dat\"]\n",
    "    #wks = pd.Series(weeks())\n",
    "    #wks = wks[wks >= Start] # can't do both in same line. for some reason??\n",
    "    #wks = wks[wks <= End]\n",
    "    sel_drugs = [i for i in top_selling(1.5)[0]] # list of drug ids\n",
    "    dates = df.loc[df.time.dt.year == Year]\n",
    "    window = dates.groupby(['NDC', 'time'])['Qty_Ord_(EU)'].sum()\n",
    "    filt_window = window.loc[testing]\n",
    "    return(filt_window)\n",
    "    #print(sel_drugs)\n",
    "    #print(testing)\n",
    "    #print(window)\n",
    "\n",
    "    \n",
    "    "
   ]
  },
  {
   "cell_type": "code",
   "execution_count": 458,
   "metadata": {
    "ExecuteTime": {
     "end_time": "2018-04-05T20:03:45.353571Z",
     "start_time": "2018-04-05T20:03:44.320661Z"
    }
   },
   "outputs": [
    {
     "name": "stdout",
     "output_type": "stream",
     "text": [
      "NDC    time      \n",
      "4.0    2008-01-06    1.377748e+07\n",
      "       2008-01-13    1.813588e+07\n",
      "       2008-01-20    1.304068e+07\n",
      "       2008-01-27    1.059988e+07\n",
      "       2008-02-03    1.243108e+07\n",
      "       2008-02-10    1.677297e+07\n",
      "       2008-02-17    1.453647e+07\n",
      "       2008-02-24    1.277937e+07\n",
      "       2008-03-02    1.305057e+07\n",
      "       2008-03-09    1.223457e+07\n",
      "       2008-03-16    1.128565e+07\n",
      "       2008-03-23    1.815085e+07\n",
      "       2008-03-30    1.726645e+07\n",
      "       2008-04-06    1.200297e+07\n",
      "       2008-04-13    1.360857e+07\n",
      "       2008-04-20    1.317897e+07\n",
      "       2008-04-27    1.414885e+07\n",
      "       2008-05-04    1.522733e+07\n",
      "       2008-05-11    1.131777e+07\n",
      "       2008-05-18    1.369017e+07\n",
      "       2008-05-25    1.618257e+07\n",
      "       2008-06-01    1.239657e+07\n",
      "       2008-06-08    1.537977e+07\n",
      "       2008-06-15    1.205697e+07\n",
      "       2008-06-22    1.262577e+07\n",
      "       2008-06-29    1.773777e+07\n",
      "       2008-07-06    1.649217e+07\n",
      "       2008-07-13    1.635988e+07\n",
      "       2008-07-20    1.175548e+07\n",
      "       2008-07-27    1.101528e+07\n",
      "                         ...     \n",
      "154.0  2008-06-08    5.446030e+06\n",
      "       2008-06-15    3.561910e+06\n",
      "       2008-06-22    3.394210e+06\n",
      "       2008-06-29    5.372427e+06\n",
      "       2008-07-06    4.283367e+06\n",
      "       2008-07-13    4.938147e+06\n",
      "       2008-07-20    3.512247e+06\n",
      "       2008-07-27    3.494187e+06\n",
      "       2008-08-03    3.816327e+06\n",
      "       2008-08-10    3.749427e+06\n",
      "       2008-08-17    3.214467e+06\n",
      "       2008-08-24    3.789867e+06\n",
      "       2008-08-31    4.390467e+06\n",
      "       2008-09-07    4.398130e+06\n",
      "       2008-09-14    4.608130e+06\n",
      "       2008-09-21    4.396630e+06\n",
      "       2008-09-28    3.626230e+06\n",
      "       2008-10-05    4.312030e+06\n",
      "       2008-10-12    5.409387e+06\n",
      "       2008-10-19    4.082187e+06\n",
      "       2008-10-26    4.684330e+06\n",
      "       2008-11-02    3.422890e+06\n",
      "       2008-11-09    2.746270e+06\n",
      "       2008-11-16    5.717247e+06\n",
      "       2008-11-23    3.000267e+06\n",
      "       2008-11-30    2.666263e+06\n",
      "       2008-12-07    4.170807e+06\n",
      "       2008-12-14    4.313547e+06\n",
      "       2008-12-21    4.243407e+06\n",
      "       2008-12-28    3.016227e+06\n",
      "Name: Qty_Ord_(EU), Length: 572, dtype: float64\n"
     ]
    }
   ],
   "source": [
    "sales(2008)"
   ]
  },
  {
   "cell_type": "code",
   "execution_count": 302,
   "metadata": {
    "ExecuteTime": {
     "end_time": "2018-04-05T18:56:29.745924Z",
     "start_time": "2018-04-05T18:56:29.729601Z"
    },
    "code_folding": [
     0
    ]
   },
   "outputs": [],
   "source": [
    "def smape(f, d):\n",
    "    ''' symmetric mean absolute percentage error\n",
    "    in: vectors f = y_hat, d = y \n",
    "    out: the smape, yo '''\n",
    "    n = len(f)\n",
    "    num = np.sum(nabs(f - d))\n",
    "    denom = np.sum(nabs(f) + nabs(d))\n",
    "    return((1/n) * num/denom)"
   ]
  },
  {
   "cell_type": "markdown",
   "metadata": {},
   "source": [
    "## Plots"
   ]
  },
  {
   "cell_type": "code",
   "execution_count": null,
   "metadata": {},
   "outputs": [],
   "source": [
    "def main():\n",
    "    dt = pd.HDFStore(\"drugdata.h5\")[\"dat\"]\n",
    "    start_date = pd.to_datetime(\"20110101\")\n",
    "    "
   ]
  },
  {
   "cell_type": "code",
   "execution_count": null,
   "metadata": {},
   "outputs": [],
   "source": []
  }
 ],
 "metadata": {
  "kernelspec": {
   "display_name": "Python 3",
   "language": "python",
   "name": "python3"
  },
  "language_info": {
   "codemirror_mode": {
    "name": "ipython",
    "version": 3
   },
   "file_extension": ".py",
   "mimetype": "text/x-python",
   "name": "python",
   "nbconvert_exporter": "python",
   "pygments_lexer": "ipython3",
   "version": "3.6.2"
  }
 },
 "nbformat": 4,
 "nbformat_minor": 2
}
